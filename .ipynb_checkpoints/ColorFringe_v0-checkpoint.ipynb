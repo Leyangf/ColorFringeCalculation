{
 "cells": [
  {
   "cell_type": "code",
   "execution_count": 1,
   "id": "af1cf4f2-385f-4932-be0d-2d1a44419ea6",
   "metadata": {
    "jupyter": {
     "source_hidden": true
    }
   },
   "outputs": [],
   "source": [
    "import numpy as np\n",
    "import matplotlib.pyplot as plt\n",
    "from ipywidgets import interact, FloatSlider\n",
    "import math\n",
    "from scipy.signal import convolve2d"
   ]
  },
  {
   "cell_type": "markdown",
   "id": "c3b5a903-30db-4558-a04d-4eb835d60e5a",
   "metadata": {},
   "source": [
    "# Research Workflow"
   ]
  },
  {
   "cell_type": "markdown",
   "id": "97d9616b-f0c4-40de-a18e-b3ccaae4a479",
   "metadata": {},
   "source": [
    "**this is the backup version 0**\n",
    "\n",
    "origianl translation of the mathematica notebook."
   ]
  },
  {
   "cell_type": "markdown",
   "id": "4f00c13d-2156-4604-a2cf-b95cbdfa8d03",
   "metadata": {},
   "source": [
    "## 1. Project overview\n",
    "1. Core Tasks:\n",
    "\n",
    "- Physical-Optical Edge Image Simulation:\n",
    "    - Develop a simulation that generates edge images and calculates the corresponding color fringe width.\n",
    "    - The simulation should accept input data exported from commercial optical design tools (e.g., Zemax or Code-V).\n",
    "    - It is recommended to implement the calculation externally in Python (preferred) or another language such as MATLAB or Mathematica.\n",
    "//\n",
    "- Optical Design Rules via Simulation:\n",
    "    - Run simulations to derive design rules for minimizing longitudinal chromatic aberration.\n",
    "    - Your simulations should account for factors including the spectral response curves, the light spectrum, and the impact of overexposure.\n",
    "    - Start with the ideal point spread function (PSF) and progressively include other aberration types (for example, incorporating effects like a spherical aberration offset).\n",
    "\n",
    "2. Advanced Topics:\n",
    "\n",
    "- Guideline Formulation for Optical Design:\n",
    "    - Formulate a concrete guideline that can be incorporated directly into an error function for optical design optimization.\n",
    "//\n",
    "- Computation-Efficient Approximation Method:\n",
    "    - Develop a quick, computation-efficient method to approximate the color fringe width that can be integrated directly into the optimization process."
   ]
  },
  {
   "cell_type": "markdown",
   "id": "031a8394-30e1-4b54-a1d4-f27234db9ad5",
   "metadata": {},
   "source": [
    "## 2. Data Import and Preparation"
   ]
  },
  {
   "cell_type": "markdown",
   "id": "a3e036b9-4e2b-4e0b-b97f-1c7695dc4abb",
   "metadata": {},
   "source": [
    "### a. Load the CHL (Longitudinal Chromatic Aberration) Data\n",
    "The CHL data is an array of wavelength–defocus pairs. \n",
    "For example:"
   ]
  },
  {
   "cell_type": "code",
   "execution_count": 2,
   "id": "9e102768-8f20-410f-bb22-6476f15afdb0",
   "metadata": {},
   "outputs": [],
   "source": [
    "CHLzf85 = np.array([\n",
    "    [400, 285], [410, 190], [420, 118], [430, 63], [440, 22],\n",
    "    [450, -9], [460, -31], [470, -46], [480, -56], [490, -62],\n",
    "    [500, -64], [510, -63], [520, -60], [530, -54], [540, -48],\n",
    "    [550, -39], [560, -30], [570, -20], [580, -9],  [590, 3],\n",
    "    [600, 15], [610, 28], [620, 41], [630, 54], [640, 68],\n",
    "    [650, 82], [660, 96], [670, 111], [680, 125], [690, 139],\n",
    "    [700, 156]\n",
    "])\n",
    "\n",
    "CHLdata = CHLzf85[:, 1]"
   ]
  },
  {
   "cell_type": "markdown",
   "id": "688c6771-129d-44da-913d-a08239e5d719",
   "metadata": {},
   "source": [
    "Following is the code of extract real defous data from Zemax:"
   ]
  },
  {
   "cell_type": "code",
   "execution_count": 3,
   "id": "4743f3c1-e1f9-437d-8237-072fd6c99ec1",
   "metadata": {
    "jupyter": {
     "source_hidden": true
    }
   },
   "outputs": [
    {
     "name": "stdout",
     "output_type": "stream",
     "text": [
      "[[400 285]\n",
      " [410 190]\n",
      " [420 118]\n",
      " [430  63]\n",
      " [440  22]\n",
      " [450  -9]\n",
      " [460 -31]\n",
      " [470 -46]\n",
      " [480 -56]\n",
      " [490 -62]\n",
      " [500 -64]\n",
      " [510 -63]\n",
      " [520 -60]\n",
      " [530 -54]\n",
      " [540 -48]\n",
      " [550 -39]\n",
      " [560 -30]\n",
      " [570 -20]\n",
      " [580  -9]\n",
      " [590   3]\n",
      " [600  15]\n",
      " [610  28]\n",
      " [620  41]\n",
      " [630  54]\n",
      " [640  68]\n",
      " [650  82]\n",
      " [660  96]\n",
      " [670 111]\n",
      " [680 125]\n",
      " [690 139]\n",
      " [700 156]]\n"
     ]
    }
   ],
   "source": [
    "def get_defocus_data(wavelength):\n",
    "    \"\"\"\n",
    "    Replace this function with the actual call to Zemax to extract defocus data\n",
    "    for the given wavelength.\n",
    "    \n",
    "    For example, you might connect to Zemax using the ZOS-API, set the current \n",
    "    wavelength, and then query the defocus value.\n",
    "    \n",
    "    This placeholder returns a dummy value. In practice, return the defocus value \n",
    "    corresponding to the wavelength.\n",
    "    \"\"\"\n",
    "    # Dummy mapping for demonstration purposes.\n",
    "    dummy_defocus_map = {\n",
    "        400: 285, 410: 190, 420: 118, 430: 63, 440: 22,\n",
    "        450: -9, 460: -31, 470: -46, 480: -56, 490: -62,\n",
    "        500: -64, 510: -63, 520: -60, 530: -54, 540: -48,\n",
    "        550: -39, 560: -30, 570: -20, 580: -9, 590: 3,\n",
    "        600: 15, 610: 28, 620: 41, 630: 54, 640: 68,\n",
    "        650: 82, 660: 96, 670: 111, 680: 125, 690: 139,\n",
    "        700: 156\n",
    "    }\n",
    "    return dummy_defocus_map.get(wavelength, None)\n",
    "\n",
    "# Create a list to hold the data pairs [wavelength, defocus]\n",
    "data = []\n",
    "\n",
    "# Iterate over wavelengths from 400 nm to 700 nm in 10 nm steps\n",
    "for wavelength in range(400, 701, 10):\n",
    "    defocus = get_defocus_data(wavelength)\n",
    "    if defocus is None:\n",
    "        print(f\"Warning: No defocus data found for {wavelength} nm\")\n",
    "    else:\n",
    "        data.append([wavelength, defocus])\n",
    "\n",
    "# Convert the list of lists into a NumPy array\n",
    "defocus_array = np.array(data)\n",
    "\n",
    "print(defocus_array)\n"
   ]
  },
  {
   "cell_type": "markdown",
   "id": "25fdeee2-2d82-4e22-ae1e-9add7370fa69",
   "metadata": {},
   "source": [
    "### b. Load Spectral Weights information\n",
    "1. The sensor responses for Blue, Green, and Red channels are provided as arrays of [wavelength, response] pairs:"
   ]
  },
  {
   "cell_type": "code",
   "execution_count": 4,
   "id": "f3690a4a-40bb-464b-b108-47a86bd139d8",
   "metadata": {},
   "outputs": [],
   "source": [
    "SensorBlue = np.array([\n",
    "    [400, 0.42], [410, 9.08], [420, 24.34], [430, 28.37],\n",
    "    [440, 40.12], [450, 39.01], [460, 47.12], [470, 46.65],\n",
    "    [480, 41.14], [490, 26.73], [500, 14.75], [510, 7.55],\n",
    "    [520, 2.76], [530, 0.0], [540, 0.0], [550, 0.0],\n",
    "    [560, 0.0], [570, 0.0], [580, 0.0], [590, 0.0],\n",
    "    [600, 0.0], [610, 0.0], [620, 0.0], [630, 0.0],\n",
    "    [640, 0.0], [650, 0.0], [660, 0.69], [670, 0.84],\n",
    "    [680, 0.32], [690, 0.04], [700, 0.0]\n",
    "])\n",
    "\n",
    "SensorGreen = np.array([\n",
    "    [400, 0.0], [410, 0.0], [420, 0.0], [430, 0.0],\n",
    "    [440, 0.0], [450, 0.0], [460, 0.0], [470, 4.63],\n",
    "    [480, 6.48], [490, 9.09], [500, 17.75], [510, 28.39],\n",
    "    [520, 37.8], [530, 38.39], [540, 35.02], [550, 28.83],\n",
    "    [560, 28.1], [570, 19.02], [580, 13.1], [590, 6.96],\n",
    "    [600, 4.33], [610, 3.34], [620, 3.02], [630, 0.0],\n",
    "    [640, 0.0], [650, 0.0], [660, 0.69], [670, 0.7],\n",
    "    [680, 0.34], [690, 0.05], [700, 0.0]\n",
    "])\n",
    "\n",
    "SensorRed = np.array([\n",
    "    [400, 0.0], [410, 1.3], [420, 1.86], [430, 2.17],\n",
    "    [440, 1.73], [450, 0.0], [460, 0.0], [470, 0.0],\n",
    "    [480, 0.0], [490, 0.0], [500, 0.0], [510, 0.0],\n",
    "    [520, 0.0], [530, 0.0], [540, 0.0], [550, 0.0],\n",
    "    [560, 0.0], [570, 2.38], [580, 60.18], [590, 100.0],\n",
    "    [600, 92.73], [610, 72.75], [620, 50.6], [630, 35.81],\n",
    "    [640, 35.08], [650, 22.4], [660, 16.96], [670, 7.75],\n",
    "    [680, 3.3], [690, 0.78], [700, 0.18]\n",
    "])\n",
    "\n",
    "SensorBluedata = SensorBlue[:, 1]\n",
    "SensorGreendata = SensorGreen[:, 1]\n",
    "SensorReddata = SensorRed[:, 1]"
   ]
  },
  {
   "cell_type": "markdown",
   "id": "e13c1eca-7dd1-41d6-b15e-0e38b4489281",
   "metadata": {},
   "source": [
    "2. The light sourse spectrum is provided as arrays of [wavelength, intensity] pairs:"
   ]
  },
  {
   "cell_type": "code",
   "execution_count": 37,
   "id": "d21fdfbf-6a70-435e-a4aa-04f84b3fb555",
   "metadata": {},
   "outputs": [],
   "source": [
    "Daylight = np.array([\n",
    "    [400, 0.42], [410, 9.08], [420, 24.34], [430, 28.37],\n",
    "    [440, 40.12], [450, 39.01], [460, 47.12], [470, 46.65],\n",
    "    [480, 41.14], [490, 26.73], [500, 14.75], [510, 7.55],\n",
    "    [520, 2.76], [530, 0.0], [540, 0.0], [550, 0.0],\n",
    "    [560, 0.0], [570, 0.0], [580, 0.0], [590, 0.0],\n",
    "    [600, 0.0], [610, 0.0], [620, 0.0], [630, 0.0],\n",
    "    [640, 0.0], [650, 0.0], [660, 0.69], [670, 0.84],\n",
    "    [680, 0.32], [690, 0.04], [700, 0.0]\n",
    "])\n",
    "Daylightdata = Daylight[:, 1]"
   ]
  },
  {
   "cell_type": "markdown",
   "id": "1e524148-969b-4a32-a8dc-84097f85ab55",
   "metadata": {},
   "source": [
    "### c. Interpolate Sensor Responses\n",
    "Create a helper function to interpolate each sensor’s response at the wavelengths of the CHL data:"
   ]
  },
  {
   "cell_type": "code",
   "execution_count": null,
   "id": "6889fc87-6ffd-46b6-a7da-30233379b649",
   "metadata": {},
   "outputs": [],
   "source": []
  },
  {
   "cell_type": "markdown",
   "id": "db5c6898-2b1b-4b80-817c-df5d6bca0da8",
   "metadata": {},
   "source": [
    "### d. Load PSF Data\n",
    "Assume your PSF data is stored in a dictionary with wavelengths as keys and 2D NumPy arrays as values. For illustration, we generate dummy Gaussian PSFs whose width depends on the defocus value:"
   ]
  },
  {
   "cell_type": "code",
   "execution_count": 5,
   "id": "72d111b2-72ab-43c2-a7cc-7b3d7e4f8fcf",
   "metadata": {},
   "outputs": [],
   "source": [
    "# Generate a shifted Gaussian PSF with a lateral offset.\n",
    "def shifted_gaussian_psf(size, sigma, dx):\n",
    "    \"\"\"\n",
    "    Create a 2D Gaussian PSF with a horizontal shift.\n",
    "    \n",
    "    Parameters:\n",
    "        size: int\n",
    "            The size (width and height) of the PSF array.\n",
    "        sigma: float\n",
    "            Standard deviation of the Gaussian.\n",
    "        dx: float\n",
    "            Horizontal shift (positive shifts right, negative shifts left).\n",
    "            \n",
    "    Returns:\n",
    "        psf: 2D numpy array\n",
    "            The normalized shifted Gaussian PSF.\n",
    "    \"\"\"\n",
    "    ax = np.linspace(-(size // 2), size // 2, size)\n",
    "    xx, yy = np.meshgrid(ax, ax)\n",
    "    psf = np.exp(-(((xx - dx)**2 + yy**2) / (2 * sigma**2)))\n",
    "    return psf / np.sum(psf)"
   ]
  },
  {
   "cell_type": "code",
   "execution_count": 34,
   "id": "1fea424e-ab09-428f-a644-85f67afdf94e",
   "metadata": {},
   "outputs": [],
   "source": [
    "# Create synthetic PSF data with a wide color fringe and more visible chromatic aberration.\n",
    "psf_data = {}\n",
    "for wl in range(400, 701, 10):\n",
    "    sigma = 2 + (wl - 400) / 10.0  \n",
    "    # Increase the lateral shift: blue wavelengths shift left and red wavelengths shift right.\n",
    "    dx = (wl - 500) / 10.0\n",
    "    psf_data[wl] = shifted_gaussian_psf(31, sigma, dx)"
   ]
  },
  {
   "cell_type": "markdown",
   "id": "9976bbaf-ed01-4491-8461-3c328563c019",
   "metadata": {},
   "source": [
    "Follwing are steps of extracting real PSF data from Zemax:\n",
    "- Connect to Zemax via the API:\n",
    "Ensure that Zemax (using ZOS-API or your preferred scripting interface) is running and that you can connect to it from Python. For Zemax OpticStudio, this typically involves setting up a COM connection or using the ZOS-API libraries.\n",
    "\n",
    "- Iterate Over the Wavelength Range:\n",
    "Define your wavelengths from 400 to 700 nm in steps of 10. For each wavelength:\n",
    "\n",
    "- Set the system wavelength in Zemax.\n",
    "Compute or retrieve the PSF data corresponding to that wavelength.\n",
    "Store Data in a Dictionary:\n",
    "Use the wavelength value as the key and assign the retrieved PSF data as the value.\n",
    "\n",
    "- Export the Dictionary:\n",
    "Once you have your complete dictionary, you can export it to a file. One common method is to use JSON serialization."
   ]
  },
  {
   "cell_type": "code",
   "execution_count": null,
   "id": "889ad78d-efd4-4178-988b-ceda1c71b999",
   "metadata": {},
   "outputs": [],
   "source": []
  },
  {
   "cell_type": "markdown",
   "id": "4ce739df-ad27-480d-b7b5-58bfd0241c25",
   "metadata": {},
   "source": [
    "## 2. Simplified Color Fringe Estimation"
   ]
  },
  {
   "cell_type": "markdown",
   "id": "712b7488-c2e5-46fa-936a-a913482a4666",
   "metadata": {},
   "source": [
    "### a. Plot the Defocus (CHL) Curve\n",
    "Visualize the defocus as a function of wavelength:"
   ]
  },
  {
   "cell_type": "code",
   "execution_count": 7,
   "id": "d12144a2-1eed-48a8-9571-dbe994e6a021",
   "metadata": {},
   "outputs": [
    {
     "data": {
      "image/png": "[encoded data removed]",
      "text/plain": [
       "<Figure size 800x1000 with 2 Axes>"
      ]
     },
     "metadata": {},
     "output_type": "display_data"
    }
   ],
   "source": [
    "# Plotting the sensor data and CHL data\n",
    "\n",
    "fig, ax = plt.subplots(2, 1, figsize=(8, 10))\n",
    "\n",
    "# Plot CHLzf85 (as points connected by lines)\n",
    "ax[0].plot(CHLzf85[:,0], CHLzf85[:,1], marker='o', linestyle='-', color='purple', label='CHLzf85')\n",
    "ax[0].set_title('Chlorophyll Data (CHLzf85)')\n",
    "ax[0].set_xlabel('Wavelength (nm)')\n",
    "ax[0].set_ylabel('Value')\n",
    "ax[0].legend()\n",
    "ax[0].grid(True)\n",
    "\n",
    "# Plot sensor channels: Blue, Green, and Red\n",
    "ax[1].plot(SensorBlue[:,0], SensorBlue[:,1], marker='o', linestyle='-', color='blue', label='SensorBlue')\n",
    "ax[1].plot(SensorGreen[:,0], SensorGreen[:,1], marker='o', linestyle='-', color='green', label='SensorGreen')\n",
    "ax[1].plot(SensorRed[:,0], SensorRed[:,1], marker='o', linestyle='-', color='red', label='SensorRed')\n",
    "ax[1].set_title('Sensor Channels')\n",
    "ax[1].set_xlabel('Wavelength (nm)')\n",
    "ax[1].set_ylabel('Response')\n",
    "ax[1].legend()\n",
    "ax[1].grid(True)\n",
    "\n",
    "plt.tight_layout()\n",
    "plt.show()\n"
   ]
  },
  {
   "cell_type": "markdown",
   "id": "b538a916-61c9-4a46-bcda-43e37090e920",
   "metadata": {},
   "source": [
    "### b. Compute a Simplified Fringe Width\n",
    "Use a threshold (e.g., 20% of the maximum absolute defocus value) to define the fringe region:"
   ]
  },
  {
   "cell_type": "code",
   "execution_count": 8,
   "id": "7ed13c63-07f6-4dfc-ad19-64440c15bea3",
   "metadata": {},
   "outputs": [],
   "source": [
    "# Constant and parameters\n",
    "K = 1.4 # A constant in threshold calculations.\n",
    "xrange = 200 # Sets the range for the x-axis in plots.\n",
    "defocusrange = 1000 # Defines the range of the defocus parameter (z).\n",
    "tol = 0.15 # Tolerance value used to decide if there is a significant difference between color channels."
   ]
  },
  {
   "cell_type": "code",
   "execution_count": 9,
   "id": "408a5745-98be-4c56-9c0b-b3b433b6a753",
   "metadata": {},
   "outputs": [],
   "source": [
    "# Exposure function: uses a hyperbolic tangent to simulate sensor over-exposure effects.\n",
    "def Exposure(x, F):\n",
    "    return np.tanh(F * x) / np.tanh(F)"
   ]
  },
  {
   "cell_type": "code",
   "execution_count": 10,
   "id": "2548180f-192f-433c-bbcf-b9137aef41fb",
   "metadata": {},
   "outputs": [],
   "source": [
    "\"\"\"\n",
    "edge_response()\n",
    "A helper function to computes a weighted sum over the sensor’s spectral data. \n",
    "\n",
    "Parameters:\n",
    "x: A position value (imagine it as distance from an edge).\n",
    "z: A defocus value.\n",
    "F: The over-exposure factor.\n",
    "g: Gamma correction value.\n",
    "sensor_data: The response values for one color channel.\n",
    "\"\"\"\n",
    "\n",
    "def edge_response(x, z, F, g, sensor_data):\n",
    "    sum_response = 0.0\n",
    "    denominator = math.sqrt(4 * (K**2) - 1)\n",
    "    for n in range(len(CHLdata)):\n",
    "        threshold = abs((z - CHLdata[n]) / denominator)\n",
    "        if x >= threshold:\n",
    "            weight = 1\n",
    "        elif x <= -threshold:\n",
    "            weight = 0\n",
    "        else:\n",
    "            weight = 0.5 * (1 + x / threshold)\n",
    "        sum_response += sensor_data[n] * weight\n",
    "    norm = np.sum(sensor_data)\n",
    "    # Apply exposure and gamma correction\n",
    "    val = Exposure(sum_response / norm, F)\n",
    "    return val ** g"
   ]
  },
  {
   "cell_type": "code",
   "execution_count": 11,
   "id": "847e627e-64e1-4dab-a818-d0f4f2380dd2",
   "metadata": {},
   "outputs": [],
   "source": [
    "# Edge functions for each channel.\n",
    "def EdgeR(x, z, F, g):\n",
    "    return edge_response(x, z, F, g, SensorReddata)\n",
    "\n",
    "def EdgeG(x, z, F, g):\n",
    "    return edge_response(x, z, F, g, SensorGreendata)\n",
    "\n",
    "def EdgeB(x, z, F, g):\n",
    "    return edge_response(x, z, F, g, SensorBluedata)"
   ]
  },
  {
   "cell_type": "code",
   "execution_count": 12,
   "id": "ef9bd2fb-6fa1-42b3-bacc-cd160c360b5c",
   "metadata": {},
   "outputs": [],
   "source": [
    "\"\"\"\n",
    "Computes the edge responses (er, eg, eb) for Red, Green, and Blue at the position x.\n",
    "Checks if the difference between any two channels is greater than the tolerance (tol = 0.15).\n",
    "Returns 1 if there is a significant difference (indicating a color fringe), otherwise returns 0.\n",
    "\"\"\"\n",
    "\n",
    "# Determines if there is a significant difference between the channels.\n",
    "def Farbsaum(x, z, F, g):\n",
    "    er = EdgeR(x, z, F, g)\n",
    "    eg = EdgeG(x, z, F, g)\n",
    "    eb = EdgeB(x, z, F, g)\n",
    "    if abs(er - eb) > tol or abs(er - eg) > tol or abs(eg - eb) > tol:\n",
    "        return 1\n",
    "    else:\n",
    "        return 0"
   ]
  },
  {
   "cell_type": "code",
   "execution_count": 13,
   "id": "9b1e224c-dccc-4546-ad46-2798ed308914",
   "metadata": {},
   "outputs": [],
   "source": [
    "# Sums the Farbsaum over the range of x.\n",
    "def Farbsaumbreite(z, F, g):\n",
    "    xs = np.arange(-xrange, xrange+1) # creates an array of x values from -200 to 200.\n",
    "    return np.sum([Farbsaum(x, z, F, g) for x in xs]) # measuring how wide (in terms of number of x positions) the color fringe is."
   ]
  },
  {
   "cell_type": "code",
   "execution_count": 14,
   "id": "737ac2ce-2093-403e-984b-3c52b23b3356",
   "metadata": {},
   "outputs": [],
   "source": [
    "# Combines the three channels into an RGB tuple.\n",
    "def ColorFringe(x, z, F, g):\n",
    "    return (EdgeR(x, z, F, g), EdgeG(x, z, F, g), EdgeB(x, z, F, g))"
   ]
  },
  {
   "cell_type": "code",
   "execution_count": 15,
   "id": "2bff51d5-a3a4-4532-ac4b-0b3e5cc8680c",
   "metadata": {},
   "outputs": [],
   "source": [
    "# Function to update the plots interactively.\n",
    "def update_plot(z=0, F=1, g=1):\n",
    "    xs = np.linspace(-xrange, xrange, 400)\n",
    "    er_vals = [EdgeR(x, z, F, g) for x in xs]\n",
    "    eg_vals = [EdgeG(x, z, F, g) for x in xs]\n",
    "    eb_vals = [EdgeB(x, z, F, g) for x in xs]\n",
    "    farb_vals = [Farbsaum(x, z, F, g) for x in xs]\n",
    "    \n",
    "    fig, axs = plt.subplots(1, 2, figsize=(12, 4))\n",
    "    \n",
    "    # Plot the edge responses and Farbsaum indicator\n",
    "    axs[0].plot(xs, er_vals, color='red', label='EdgeR')\n",
    "    axs[0].plot(xs, eg_vals, color='green', label='EdgeG')\n",
    "    axs[0].plot(xs, eb_vals, color='blue', label='EdgeB')\n",
    "    axs[0].plot(xs, farb_vals, color='gray', label='Farbsaum')\n",
    "    axs[0].set_title(\"Edge Responses & Farbsaum\")\n",
    "    axs[0].set_xlabel(\"x\")\n",
    "    axs[0].set_ylabel(\"Response\")\n",
    "    axs[0].legend()\n",
    "    axs[0].set_ylim(0, 1)\n",
    "    \n",
    "    # Create a density plot using ColorFringe\n",
    "    grid_y = np.linspace(0, 0.5 * xrange, 200) \n",
    "    X, Y = np.meshgrid(xs, grid_y)\n",
    "    Z = np.zeros(X.shape + (3,)) \n",
    "    # Creates an empty array to store an RGB color (3 channels) for each grid point.\n",
    "    \n",
    "    # Compute the RGB value at each grid point (y is not used in computation, only x)\n",
    "    for i in range(X.shape[0]):\n",
    "        for j in range(X.shape[1]):\n",
    "            Z[i, j] = ColorFringe(X[i, j], z, F, g) \n",
    "            # For every (i, j) point in the grid, it computes the RGB color using ColorFringe and stores it in Z.\n",
    "            \n",
    "    Z = np.clip(Z, 0, 1) # Ensures that all RGB values are between 0 and 1.\n",
    "    \n",
    "    axs[1].imshow(Z, extent=[-xrange, xrange, 0, 0.5*xrange], origin='lower', aspect='auto')\n",
    "    axs[1].set_title(\"Color Fringe Density Plot\")\n",
    "    axs[1].set_xlabel(\"x\")\n",
    "    axs[1].set_ylabel(\"y\")\n",
    "    \n",
    "    plt.tight_layout()\n",
    "    plt.show()"
   ]
  },
  {
   "cell_type": "code",
   "execution_count": 16,
   "id": "873eba03-9cbb-449d-82bf-b6db7f518fee",
   "metadata": {},
   "outputs": [
    {
     "data": {
      "application/vnd.jupyter.widget-view+json": {
       "model_id": "301cca74c59049308bdeef93dafdbe25",
       "version_major": 2,
       "version_minor": 0
      },
      "text/plain": [
       "interactive(children=(FloatSlider(value=0.0, description='defocus', max=1000.0, min=-1000.0, step=1.0), FloatS…"
      ]
     },
     "metadata": {},
     "output_type": "display_data"
    },
    {
     "data": {
      "text/plain": [
       "<function __main__.update_plot(z=0, F=1, g=1)>"
      ]
     },
     "execution_count": 16,
     "metadata": {},
     "output_type": "execute_result"
    }
   ],
   "source": [
    "# Create interactive widgets to control the parameters.\n",
    "interact(update_plot, \n",
    "         z=FloatSlider(min=-defocusrange, max=defocusrange, step=1, value=0, description='defocus'),\n",
    "         F=FloatSlider(min=1, max=16, step=0.1, value=1, description='over exposure factor'),\n",
    "         g=FloatSlider(min=0.5, max=4, step=0.1, value=1, description='Gamma'))"
   ]
  },
  {
   "cell_type": "markdown",
   "id": "3405e3da-fb89-46fe-9250-ebc07bf8291c",
   "metadata": {},
   "source": [
    "## 3. Photorealistic PSF Simulation"
   ]
  },
  {
   "cell_type": "markdown",
   "id": "a2d82dee-448f-4a23-bbfc-8c4e68633148",
   "metadata": {},
   "source": [
    "### a. Create a Synthetic Edge Image\n",
    "Generate a sharp edge image that will be used for convolution:"
   ]
  },
  {
   "cell_type": "code",
   "execution_count": 17,
   "id": "6173276c-7ce1-45e5-b4b4-0353f1e62d5f",
   "metadata": {},
   "outputs": [],
   "source": [
    "# Create a simple binary edge image (step function).\n",
    "edge_img = np.zeros((200, 400))\n",
    "edge_img[:, 200:] = 1  # left half 0, right half 1\n",
    "\n",
    "# Interactive function to update and display the simulation.\n",
    "def update_psf_fringe(F=1, g=1):\n",
    "    rgb_result = simulate_fringe_with_psf(edge_img, psf_data, F=F, g=g)\n",
    "    plt.figure(figsize=(6, 3))\n",
    "    plt.imshow(rgb_result, origin='lower', extent=[0, 400, 0, 200])\n",
    "    plt.title(\"Color Fringe with Adjustable Overexposure Factor\")\n",
    "    plt.xlabel(\"x\")\n",
    "    plt.ylabel(\"y\")\n",
    "    plt.show()"
   ]
  },
  {
   "cell_type": "markdown",
   "id": "9a482e89-580c-4312-8b60-af6e67e4fa8a",
   "metadata": {},
   "source": [
    "### b. Simulate a Channel Image by Convolving with PSFs and Form the Image\n",
    "Define a function that loops over wavelengths, uses the corresponding PSF, and weights the contribution by the sensor response:"
   ]
  },
  {
   "cell_type": "code",
   "execution_count": 35,
   "id": "8d42276d-ffdb-43e6-8c00-ef9287506e97",
   "metadata": {},
   "outputs": [],
   "source": [
    "# Function to simulate the color fringe using the PSF data.\n",
    "def simulate_fringe_with_psf(edge_img, psf_data, F=1, g=1):\n",
    "    \"\"\"\n",
    "    Simulate the color fringe on the focal plane using real PSF data.\n",
    "    \n",
    "    Parameters:\n",
    "        edge_img: 2D numpy array\n",
    "            The edge image (e.g., a binary step function) on the focal plane.\n",
    "        psf_data: dict\n",
    "            A dictionary mapping wavelengths (400, 410, ..., 700) to 2D PSF arrays.\n",
    "        F: float\n",
    "            Overexposure factor.\n",
    "        g: float\n",
    "            Gamma correction factor.\n",
    "    \n",
    "    Returns:\n",
    "        rgb_image: 3D numpy array (height x width x 3)\n",
    "            The simulated RGB image showing the color fringe.\n",
    "    \"\"\"\n",
    "    wavelengths = np.arange(400, 701, 10)\n",
    "    \n",
    "    # Sensor responses for each channel.\n",
    "    sensor_R = SensorReddata\n",
    "    sensor_G = SensorGreendata\n",
    "    sensor_B = SensorBluedata\n",
    "    \n",
    "    # Initialize accumulators for each channel.\n",
    "    red_acc   = np.zeros_like(edge_img, dtype=float)\n",
    "    green_acc = np.zeros_like(edge_img, dtype=float)\n",
    "    blue_acc  = np.zeros_like(edge_img, dtype=float)\n",
    "    \n",
    "    # Total sensor response for normalization.\n",
    "    norm_R = np.sum(sensor_R)\n",
    "    norm_G = np.sum(sensor_G)\n",
    "    norm_B = np.sum(sensor_B)\n",
    "    \n",
    "    # Process each wavelength.\n",
    "    for i, wl in enumerate(wavelengths):\n",
    "        if wl in psf_data:\n",
    "            psf = psf_data[wl]\n",
    "            conv_result = convolve2d(edge_img, psf, mode='same', boundary='symm')\n",
    "            red_acc   += sensor_R[i] * conv_result\n",
    "            green_acc += sensor_G[i] * conv_result\n",
    "            blue_acc  += sensor_B[i] * conv_result\n",
    "        else:\n",
    "            print(f\"Warning: PSF data for wavelength {wl} not found.\")\n",
    "    \n",
    "    # Normalize responses.\n",
    "    red_norm   = red_acc   / norm_R\n",
    "    green_norm = green_acc / norm_G\n",
    "    blue_norm  = blue_acc  / norm_B\n",
    "    \n",
    "    # Apply overexposure and gamma correction.\n",
    "    red_exposed   = Exposure(red_norm, F)\n",
    "    green_exposed = Exposure(green_norm, F)\n",
    "    blue_exposed  = Exposure(blue_norm, F)\n",
    "    \n",
    "    red_gamma   = red_exposed ** g\n",
    "    green_gamma = green_exposed ** g\n",
    "    blue_gamma  = blue_exposed ** g\n",
    "    \n",
    "    # Combine channels into an RGB image.\n",
    "    rgb_image = np.stack((red_gamma, green_gamma, blue_gamma), axis=-1)\n",
    "    return np.clip(rgb_image, 0, 1) "
   ]
  },
  {
   "cell_type": "code",
   "execution_count": 36,
   "id": "32c6c117-fc98-47fd-aed4-73a878d66773",
   "metadata": {},
   "outputs": [
    {
     "data": {
      "application/vnd.jupyter.widget-view+json": {
       "model_id": "ae85b989d869451d8585311b4096be42",
       "version_major": 2,
       "version_minor": 0
      },
      "text/plain": [
       "interactive(children=(FloatSlider(value=1.0, description='Overexposure F', max=16.0, min=1.0), FloatSlider(val…"
      ]
     },
     "metadata": {},
     "output_type": "display_data"
    },
    {
     "data": {
      "text/plain": [
       "<function __main__.update_psf_fringe(F=1, g=1)>"
      ]
     },
     "execution_count": 36,
     "metadata": {},
     "output_type": "execute_result"
    }
   ],
   "source": [
    "# Create sliders for F (overexposure factor) and g (gamma correction).\n",
    "interact(update_psf_fringe, \n",
    "         F=FloatSlider(min=1, max=16, step=0.1, value=1, description='Overexposure F'),\n",
    "         g=FloatSlider(min=0.5, max=4, step=0.1, value=1, description='Gamma'))"
   ]
  },
  {
   "cell_type": "markdown",
   "id": "80a7d03f-6ce2-467b-89b5-f829ef695e4a",
   "metadata": {},
   "source": [
    "## 5. Parameter Tuning and Optimization"
   ]
  },
  {
   "cell_type": "markdown",
   "id": "3510f86a-cda1-4cde-b10b-e57905a239ba",
   "metadata": {},
   "source": [
    "### a. Loop Over Parameters to Assess Effects\n",
    "For example, vary the overexposure factor and compute a simple metric (e.g., average fringe contrast) to find the best parameter."
   ]
  },
  {
   "cell_type": "code",
   "execution_count": null,
   "id": "3fd28cf2-ba5b-4b5e-9398-0c5cdd9ece3f",
   "metadata": {},
   "outputs": [],
   "source": []
  },
  {
   "cell_type": "code",
   "execution_count": null,
   "id": "9ae66597-a48f-4d0e-8758-cfcacd672753",
   "metadata": {},
   "outputs": [],
   "source": []
  }
 ],
 "metadata": {
  "kernelspec": {
   "display_name": "Python 3 (ipykernel)",
   "language": "python",
   "name": "python3"
  },
  "language_info": {
   "codemirror_mode": {
    "name": "ipython",
    "version": 3
   },
   "file_extension": ".py",
   "mimetype": "text/x-python",
   "name": "python",
   "nbconvert_exporter": "python",
   "pygments_lexer": "ipython3",
   "version": "3.13.2"
  }
 },
 "nbformat": 4,
 "nbformat_minor": 5
}
